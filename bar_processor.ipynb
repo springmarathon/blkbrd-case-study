{
 "cells": [
  {
   "cell_type": "code",
   "execution_count": 37,
   "metadata": {},
   "outputs": [],
   "source": [
    "import matplotlib.pyplot as plt\n",
    "import pandas as pd"
   ]
  },
  {
   "cell_type": "code",
   "execution_count": 13,
   "metadata": {},
   "outputs": [],
   "source": [
    "df = pd.read_csv(\"SPX.csv\")\n",
    "df[\"Dates\"] = pd.to_datetime(df[\"Dates\"])"
   ]
  },
  {
   "cell_type": "code",
   "execution_count": 14,
   "metadata": {},
   "outputs": [
    {
     "data": {
      "text/html": [
       "<div>\n",
       "<style scoped>\n",
       "    .dataframe tbody tr th:only-of-type {\n",
       "        vertical-align: middle;\n",
       "    }\n",
       "\n",
       "    .dataframe tbody tr th {\n",
       "        vertical-align: top;\n",
       "    }\n",
       "\n",
       "    .dataframe thead th {\n",
       "        text-align: right;\n",
       "    }\n",
       "</style>\n",
       "<table border=\"1\" class=\"dataframe\">\n",
       "  <thead>\n",
       "    <tr style=\"text-align: right;\">\n",
       "      <th></th>\n",
       "      <th>Dates</th>\n",
       "      <th>Open</th>\n",
       "      <th>Close</th>\n",
       "    </tr>\n",
       "  </thead>\n",
       "  <tbody>\n",
       "    <tr>\n",
       "      <th>0</th>\n",
       "      <td>2023-05-19 09:30:00</td>\n",
       "      <td>4204.15</td>\n",
       "      <td>4211.47</td>\n",
       "    </tr>\n",
       "    <tr>\n",
       "      <th>1</th>\n",
       "      <td>2023-05-19 10:00:00</td>\n",
       "      <td>4211.59</td>\n",
       "      <td>4211.38</td>\n",
       "    </tr>\n",
       "    <tr>\n",
       "      <th>2</th>\n",
       "      <td>2023-05-19 10:30:00</td>\n",
       "      <td>4211.24</td>\n",
       "      <td>4209.03</td>\n",
       "    </tr>\n",
       "    <tr>\n",
       "      <th>3</th>\n",
       "      <td>2023-05-19 11:00:00</td>\n",
       "      <td>4209.00</td>\n",
       "      <td>4191.72</td>\n",
       "    </tr>\n",
       "    <tr>\n",
       "      <th>4</th>\n",
       "      <td>2023-05-19 11:30:00</td>\n",
       "      <td>4191.48</td>\n",
       "      <td>4191.13</td>\n",
       "    </tr>\n",
       "  </tbody>\n",
       "</table>\n",
       "</div>"
      ],
      "text/plain": [
       "                Dates     Open    Close\n",
       "0 2023-05-19 09:30:00  4204.15  4211.47\n",
       "1 2023-05-19 10:00:00  4211.59  4211.38\n",
       "2 2023-05-19 10:30:00  4211.24  4209.03\n",
       "3 2023-05-19 11:00:00  4209.00  4191.72\n",
       "4 2023-05-19 11:30:00  4191.48  4191.13"
      ]
     },
     "execution_count": 14,
     "metadata": {},
     "output_type": "execute_result"
    }
   ],
   "source": [
    "df.head()"
   ]
  },
  {
   "cell_type": "code",
   "execution_count": 32,
   "metadata": {},
   "outputs": [
    {
     "data": {
      "text/html": [
       "<div>\n",
       "<style scoped>\n",
       "    .dataframe tbody tr th:only-of-type {\n",
       "        vertical-align: middle;\n",
       "    }\n",
       "\n",
       "    .dataframe tbody tr th {\n",
       "        vertical-align: top;\n",
       "    }\n",
       "\n",
       "    .dataframe thead th {\n",
       "        text-align: right;\n",
       "    }\n",
       "</style>\n",
       "<table border=\"1\" class=\"dataframe\">\n",
       "  <thead>\n",
       "    <tr style=\"text-align: right;\">\n",
       "      <th></th>\n",
       "      <th>Open Time</th>\n",
       "      <th>Open</th>\n",
       "    </tr>\n",
       "    <tr>\n",
       "      <th>Dates</th>\n",
       "      <th></th>\n",
       "      <th></th>\n",
       "    </tr>\n",
       "  </thead>\n",
       "  <tbody>\n",
       "    <tr>\n",
       "      <th>2023-05-19</th>\n",
       "      <td>2023-05-19 09:30:00</td>\n",
       "      <td>4204.15</td>\n",
       "    </tr>\n",
       "    <tr>\n",
       "      <th>2023-05-22</th>\n",
       "      <td>2023-05-22 09:30:00</td>\n",
       "      <td>4190.78</td>\n",
       "    </tr>\n",
       "    <tr>\n",
       "      <th>2023-05-23</th>\n",
       "      <td>2023-05-23 09:30:00</td>\n",
       "      <td>4176.80</td>\n",
       "    </tr>\n",
       "    <tr>\n",
       "      <th>2023-05-24</th>\n",
       "      <td>2023-05-24 09:30:00</td>\n",
       "      <td>4132.96</td>\n",
       "    </tr>\n",
       "    <tr>\n",
       "      <th>2023-05-25</th>\n",
       "      <td>2023-05-25 09:30:00</td>\n",
       "      <td>4155.71</td>\n",
       "    </tr>\n",
       "  </tbody>\n",
       "</table>\n",
       "</div>"
      ],
      "text/plain": [
       "                     Open Time     Open\n",
       "Dates                                  \n",
       "2023-05-19 2023-05-19 09:30:00  4204.15\n",
       "2023-05-22 2023-05-22 09:30:00  4190.78\n",
       "2023-05-23 2023-05-23 09:30:00  4176.80\n",
       "2023-05-24 2023-05-24 09:30:00  4132.96\n",
       "2023-05-25 2023-05-25 09:30:00  4155.71"
      ]
     },
     "execution_count": 32,
     "metadata": {},
     "output_type": "execute_result"
    }
   ],
   "source": [
    "df_open = df.loc[df.groupby(df.Dates.dt.date, as_index=False).Dates.idxmin().Dates, [\"Dates\", \"Open\"]]\n",
    "df_open.rename(columns={\"Dates\": \"Open Time\"}, inplace=True)\n",
    "df_open[\"Dates\"] = df_open[\"Open Time\"].dt.date\n",
    "df_open.set_index(\"Dates\", inplace=True)\n",
    "df_open.head()"
   ]
  },
  {
   "cell_type": "code",
   "execution_count": 33,
   "metadata": {},
   "outputs": [
    {
     "data": {
      "text/html": [
       "<div>\n",
       "<style scoped>\n",
       "    .dataframe tbody tr th:only-of-type {\n",
       "        vertical-align: middle;\n",
       "    }\n",
       "\n",
       "    .dataframe tbody tr th {\n",
       "        vertical-align: top;\n",
       "    }\n",
       "\n",
       "    .dataframe thead th {\n",
       "        text-align: right;\n",
       "    }\n",
       "</style>\n",
       "<table border=\"1\" class=\"dataframe\">\n",
       "  <thead>\n",
       "    <tr style=\"text-align: right;\">\n",
       "      <th></th>\n",
       "      <th>Close Time</th>\n",
       "      <th>Close</th>\n",
       "    </tr>\n",
       "    <tr>\n",
       "      <th>Dates</th>\n",
       "      <th></th>\n",
       "      <th></th>\n",
       "    </tr>\n",
       "  </thead>\n",
       "  <tbody>\n",
       "    <tr>\n",
       "      <th>2023-05-19</th>\n",
       "      <td>2023-05-19 16:00:00</td>\n",
       "      <td>4191.98</td>\n",
       "    </tr>\n",
       "    <tr>\n",
       "      <th>2023-05-22</th>\n",
       "      <td>2023-05-22 16:00:00</td>\n",
       "      <td>4192.63</td>\n",
       "    </tr>\n",
       "    <tr>\n",
       "      <th>2023-05-23</th>\n",
       "      <td>2023-05-23 16:00:00</td>\n",
       "      <td>4145.58</td>\n",
       "    </tr>\n",
       "    <tr>\n",
       "      <th>2023-05-24</th>\n",
       "      <td>2023-05-24 16:00:00</td>\n",
       "      <td>4115.24</td>\n",
       "    </tr>\n",
       "    <tr>\n",
       "      <th>2023-05-25</th>\n",
       "      <td>2023-05-25 16:00:00</td>\n",
       "      <td>4151.28</td>\n",
       "    </tr>\n",
       "  </tbody>\n",
       "</table>\n",
       "</div>"
      ],
      "text/plain": [
       "                    Close Time    Close\n",
       "Dates                                  \n",
       "2023-05-19 2023-05-19 16:00:00  4191.98\n",
       "2023-05-22 2023-05-22 16:00:00  4192.63\n",
       "2023-05-23 2023-05-23 16:00:00  4145.58\n",
       "2023-05-24 2023-05-24 16:00:00  4115.24\n",
       "2023-05-25 2023-05-25 16:00:00  4151.28"
      ]
     },
     "execution_count": 33,
     "metadata": {},
     "output_type": "execute_result"
    }
   ],
   "source": [
    "df_close = df.loc[df.groupby(df.Dates.dt.date, as_index=False).Dates.idxmax().Dates, [\"Dates\", \"Close\"]]\n",
    "df_close.rename(columns={\"Dates\": \"Close Time\"}, inplace=True)\n",
    "df_close[\"Dates\"] = df_close[\"Close Time\"].dt.date\n",
    "df_close.set_index(\"Dates\", inplace=True)\n",
    "df_close.head()"
   ]
  },
  {
   "cell_type": "code",
   "execution_count": 35,
   "metadata": {},
   "outputs": [
    {
     "data": {
      "text/html": [
       "<div>\n",
       "<style scoped>\n",
       "    .dataframe tbody tr th:only-of-type {\n",
       "        vertical-align: middle;\n",
       "    }\n",
       "\n",
       "    .dataframe tbody tr th {\n",
       "        vertical-align: top;\n",
       "    }\n",
       "\n",
       "    .dataframe thead th {\n",
       "        text-align: right;\n",
       "    }\n",
       "</style>\n",
       "<table border=\"1\" class=\"dataframe\">\n",
       "  <thead>\n",
       "    <tr style=\"text-align: right;\">\n",
       "      <th></th>\n",
       "      <th>Open Time</th>\n",
       "      <th>Open</th>\n",
       "      <th>Close Time</th>\n",
       "      <th>Close</th>\n",
       "      <th>IntradayRet</th>\n",
       "    </tr>\n",
       "    <tr>\n",
       "      <th>Dates</th>\n",
       "      <th></th>\n",
       "      <th></th>\n",
       "      <th></th>\n",
       "      <th></th>\n",
       "      <th></th>\n",
       "    </tr>\n",
       "  </thead>\n",
       "  <tbody>\n",
       "    <tr>\n",
       "      <th>2023-05-19</th>\n",
       "      <td>2023-05-19 09:30:00</td>\n",
       "      <td>4204.15</td>\n",
       "      <td>2023-05-19 16:00:00</td>\n",
       "      <td>4191.98</td>\n",
       "      <td>-0.002895</td>\n",
       "    </tr>\n",
       "    <tr>\n",
       "      <th>2023-05-22</th>\n",
       "      <td>2023-05-22 09:30:00</td>\n",
       "      <td>4190.78</td>\n",
       "      <td>2023-05-22 16:00:00</td>\n",
       "      <td>4192.63</td>\n",
       "      <td>0.000441</td>\n",
       "    </tr>\n",
       "    <tr>\n",
       "      <th>2023-05-23</th>\n",
       "      <td>2023-05-23 09:30:00</td>\n",
       "      <td>4176.80</td>\n",
       "      <td>2023-05-23 16:00:00</td>\n",
       "      <td>4145.58</td>\n",
       "      <td>-0.007475</td>\n",
       "    </tr>\n",
       "    <tr>\n",
       "      <th>2023-05-24</th>\n",
       "      <td>2023-05-24 09:30:00</td>\n",
       "      <td>4132.96</td>\n",
       "      <td>2023-05-24 16:00:00</td>\n",
       "      <td>4115.24</td>\n",
       "      <td>-0.004287</td>\n",
       "    </tr>\n",
       "    <tr>\n",
       "      <th>2023-05-25</th>\n",
       "      <td>2023-05-25 09:30:00</td>\n",
       "      <td>4155.71</td>\n",
       "      <td>2023-05-25 16:00:00</td>\n",
       "      <td>4151.28</td>\n",
       "      <td>-0.001066</td>\n",
       "    </tr>\n",
       "  </tbody>\n",
       "</table>\n",
       "</div>"
      ],
      "text/plain": [
       "                     Open Time     Open          Close Time    Close   \n",
       "Dates                                                                  \n",
       "2023-05-19 2023-05-19 09:30:00  4204.15 2023-05-19 16:00:00  4191.98  \\\n",
       "2023-05-22 2023-05-22 09:30:00  4190.78 2023-05-22 16:00:00  4192.63   \n",
       "2023-05-23 2023-05-23 09:30:00  4176.80 2023-05-23 16:00:00  4145.58   \n",
       "2023-05-24 2023-05-24 09:30:00  4132.96 2023-05-24 16:00:00  4115.24   \n",
       "2023-05-25 2023-05-25 09:30:00  4155.71 2023-05-25 16:00:00  4151.28   \n",
       "\n",
       "            IntradayRet  \n",
       "Dates                    \n",
       "2023-05-19    -0.002895  \n",
       "2023-05-22     0.000441  \n",
       "2023-05-23    -0.007475  \n",
       "2023-05-24    -0.004287  \n",
       "2023-05-25    -0.001066  "
      ]
     },
     "execution_count": 35,
     "metadata": {},
     "output_type": "execute_result"
    }
   ],
   "source": [
    "df_bar = pd.merge(left=df_open, right=df_close, left_index=True, right_index=True, how=\"inner\")\n",
    "df_bar[\"IntradayRet\"] = df_bar[\"Close\"] / df_bar[\"Open\"] - 1\n",
    "df_bar.head()"
   ]
  },
  {
   "cell_type": "code",
   "execution_count": 36,
   "metadata": {},
   "outputs": [],
   "source": [
    "df_bar.to_csv(\"SPX_daily_bar.csv\")"
   ]
  },
  {
   "cell_type": "code",
   "execution_count": 39,
   "metadata": {},
   "outputs": [
    {
     "data": {
      "text/plain": [
       "<Axes: xlabel='Dates'>"
      ]
     },
     "execution_count": 39,
     "metadata": {},
     "output_type": "execute_result"
    },
    {
     "data": {
      "image/png": "[encoded data removed]",
      "text/plain": [
       "<Figure size 640x480 with 1 Axes>"
      ]
     },
     "metadata": {},
     "output_type": "display_data"
    }
   ],
   "source": [
    "((df_bar[\"IntradayRet\"] + 1).cumprod() - 1).plot()"
   ]
  }
 ],
 "metadata": {
  "kernelspec": {
   "display_name": "Python 3",
   "language": "python",
   "name": "python3"
  },
  "language_info": {
   "codemirror_mode": {
    "name": "ipython",
    "version": 3
   },
   "file_extension": ".py",
   "mimetype": "text/x-python",
   "name": "python",
   "nbconvert_exporter": "python",
   "pygments_lexer": "ipython3",
   "version": "3.10.11"
  },
  "orig_nbformat": 4
 },
 "nbformat": 4,
 "nbformat_minor": 2
}
